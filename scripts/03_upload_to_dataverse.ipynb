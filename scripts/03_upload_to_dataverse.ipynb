{
 "cells": [
  {
   "cell_type": "code",
   "execution_count": 1,
   "metadata": {},
   "outputs": [],
   "source": [
    "# Dataverse API Token\n",
    "# https://dataverse.harvard.edu/dataverseuser.xhtml?selectTab=apiTokenTab\n",
    "host = 'https://dataverse.harvard.edu'\n",
    "token = '<API TOKEN>'\n",
    "doi = 'doi:10.7910/DVN/6YPB5C'"
   ]
  },
  {
   "cell_type": "code",
   "execution_count": 2,
   "metadata": {},
   "outputs": [],
   "source": [
    "from pyDataverse.api import Api"
   ]
  },
  {
   "cell_type": "code",
   "execution_count": 3,
   "metadata": {},
   "outputs": [],
   "source": [
    "from pyDataverse.models import Dataverse"
   ]
  },
  {
   "cell_type": "code",
   "execution_count": 4,
   "metadata": {},
   "outputs": [
    {
     "data": {
      "text/plain": [
       "'OK'"
      ]
     },
     "execution_count": 4,
     "metadata": {},
     "output_type": "execute_result"
    }
   ],
   "source": [
    "api = Api('https://dataverse.harvard.edu/', token)\n",
    "api.status"
   ]
  },
  {
   "cell_type": "code",
   "execution_count": 5,
   "metadata": {},
   "outputs": [
    {
     "data": {
      "text/plain": [
       "{'status': 'OK',\n",
       " 'data': {'id': 6867543,\n",
       "  'identifier': 'DVN/6YPB5C',\n",
       "  'persistentUrl': 'https://doi.org/10.7910/DVN/6YPB5C',\n",
       "  'protocol': 'doi',\n",
       "  'authority': '10.7910',\n",
       "  'publisher': 'Harvard Dataverse',\n",
       "  'storageIdentifier': 's3://10.7910/DVN/6YPB5C',\n",
       "  'latestVersion': {'id': 337730,\n",
       "   'datasetId': 6867543,\n",
       "   'datasetPersistentId': 'doi:10.7910/DVN/6YPB5C',\n",
       "   'storageIdentifier': 's3://10.7910/DVN/6YPB5C',\n",
       "   'versionState': 'DRAFT',\n",
       "   'lastUpdateTime': '2023-01-04T02:44:05Z',\n",
       "   'createTime': '2023-01-04T02:44:05Z',\n",
       "   'license': {'name': 'CC0 1.0',\n",
       "    'uri': 'http://creativecommons.org/publicdomain/zero/1.0'},\n",
       "   'fileAccessRequest': True,\n",
       "   'metadataBlocks': {'citation': {'displayName': 'Citation Metadata',\n",
       "     'name': 'citation',\n",
       "     'fields': [{'typeName': 'title',\n",
       "       'multiple': False,\n",
       "       'typeClass': 'primitive',\n",
       "       'value': 'Gram Panchayat Election Data For Rajasthan (2020/2021/2022)'},\n",
       "      {'typeName': 'author',\n",
       "       'multiple': True,\n",
       "       'typeClass': 'compound',\n",
       "       'value': [{'authorName': {'typeName': 'authorName',\n",
       "          'multiple': False,\n",
       "          'typeClass': 'primitive',\n",
       "          'value': 'Sood, Gaurav'}},\n",
       "        {'authorName': {'typeName': 'authorName',\n",
       "          'multiple': False,\n",
       "          'typeClass': 'primitive',\n",
       "          'value': 'Laohaprapanon, Suriyan'}}]},\n",
       "      {'typeName': 'datasetContact',\n",
       "       'multiple': True,\n",
       "       'typeClass': 'compound',\n",
       "       'value': [{'datasetContactName': {'typeName': 'datasetContactName',\n",
       "          'multiple': False,\n",
       "          'typeClass': 'primitive',\n",
       "          'value': 'Sood, Gaurav'},\n",
       "         'datasetContactEmail': {'typeName': 'datasetContactEmail',\n",
       "          'multiple': False,\n",
       "          'typeClass': 'primitive',\n",
       "          'value': 'gsood07@gmail.com'}}]},\n",
       "      {'typeName': 'dsDescription',\n",
       "       'multiple': True,\n",
       "       'typeClass': 'compound',\n",
       "       'value': [{'dsDescriptionValue': {'typeName': 'dsDescriptionValue',\n",
       "          'multiple': False,\n",
       "          'typeClass': 'primitive',\n",
       "          'value': 'see https://github.com/in-rolls/sec_rajasthan/'}}]},\n",
       "      {'typeName': 'subject',\n",
       "       'multiple': True,\n",
       "       'typeClass': 'controlledVocabulary',\n",
       "       'value': ['Social Sciences']},\n",
       "      {'typeName': 'depositor',\n",
       "       'multiple': False,\n",
       "       'typeClass': 'primitive',\n",
       "       'value': 'Sood, Gaurav'},\n",
       "      {'typeName': 'dateOfDeposit',\n",
       "       'multiple': False,\n",
       "       'typeClass': 'primitive',\n",
       "       'value': '2023-01-03'}]}},\n",
       "   'files': []}}}"
      ]
     },
     "execution_count": 5,
     "metadata": {},
     "output_type": "execute_result"
    }
   ],
   "source": [
    "resp = api.get_dataset(doi)\n",
    "resp.json()"
   ]
  },
  {
   "cell_type": "code",
   "execution_count": 6,
   "metadata": {},
   "outputs": [
    {
     "name": "stdout",
     "output_type": "stream",
     "text": [
      "WarnWinningPanch.csv.gz\n"
     ]
    },
    {
     "name": "stderr",
     "output_type": "stream",
     "text": [
      "  % Total    % Received % Xferd  Average Speed   Time    Time     Time  Current\n",
      "                                 Dload  Upload   Total   Spent    Left  Speed\n",
      "100 2623k  100   526  100 2622k    274  1370k  0:00:01  0:00:01 --:--:-- 1370k\n",
      "  % Total    % Received % Xferd  Average Speed   Time    Time     Time  Current\n",
      "                                 Dload  Upload   Total   Spent    Left  Speed\n",
      "  0     0    0     0    0     0      0      0 --:--:-- --:--:-- --:--:--     0"
     ]
    },
    {
     "name": "stdout",
     "output_type": "stream",
     "text": [
      "{'status': 'OK', 'data': {'files': [{'description': '', 'label': 'WarnWinningPanch.csv.gz', 'restricted': False, 'version': 1, 'datasetVersionId': 337730, 'dataFile': {'id': 6867544, 'persistentId': '', 'pidURL': '', 'filename': 'WarnWinningPanch.csv.gz', 'contentType': 'application/gzip', 'filesize': 2685722, 'description': '', 'storageIdentifier': 's3://dvn-cloud:1857abead7a-67024f18e12c', 'rootDataFileId': -1, 'md5': 'cbb12435673668c7b92650eb15d2ae6e', 'checksum': {'type': 'MD5', 'value': 'cbb12435673668c7b92650eb15d2ae6e'}, 'creationDate': '2023-01-03'}}]}}\n",
      "WinnerSarpanch.csv.gz\n"
     ]
    },
    {
     "name": "stderr",
     "output_type": "stream",
     "text": [
      "100  520k  100   521  100  519k    243   242k  0:00:02  0:00:02 --:--:--  242k\n"
     ]
    },
    {
     "name": "stdout",
     "output_type": "stream",
     "text": [
      "{'status': 'OK', 'data': {'files': [{'description': '', 'label': 'WinnerSarpanch.csv.gz', 'restricted': False, 'version': 1, 'datasetVersionId': 337730, 'dataFile': {'id': 6867545, 'persistentId': '', 'pidURL': '', 'filename': 'WinnerSarpanch.csv.gz', 'contentType': 'application/gzip', 'filesize': 531974, 'description': '', 'storageIdentifier': 's3://dvn-cloud:1857abeb484-00192862f0fd', 'rootDataFileId': -1, 'md5': 'ce3316f5bbe40bf345849d4fbf30b031', 'checksum': {'type': 'MD5', 'value': 'ce3316f5bbe40bf345849d4fbf30b031'}, 'creationDate': '2023-01-03'}}]}}\n",
      "ContestingSarpanch.csv.gz\n"
     ]
    },
    {
     "name": "stderr",
     "output_type": "stream",
     "text": [
      "  % Total    % Received % Xferd  Average Speed   Time    Time     Time  Current\n",
      "                                 Dload  Upload   Total   Spent    Left  Speed\n",
      "100 2089k  100   530  100 2089k    237   938k  0:00:02  0:00:02 --:--:--  939k\n",
      "  % Total    % Received % Xferd  Average Speed   Time    Time     Time  Current\n",
      "                                 Dload  Upload   Total   Spent    Left  Speed\n",
      "  0     0    0     0    0     0      0      0 --:--:-- --:--:-- --:--:--     0"
     ]
    },
    {
     "name": "stdout",
     "output_type": "stream",
     "text": [
      "{'status': 'OK', 'data': {'files': [{'description': '', 'label': 'ContestingSarpanch.csv.gz', 'restricted': False, 'version': 1, 'datasetVersionId': 337730, 'dataFile': {'id': 6867546, 'persistentId': '', 'pidURL': '', 'filename': 'ContestingSarpanch.csv.gz', 'contentType': 'application/gzip', 'filesize': 2138924, 'description': '', 'storageIdentifier': 's3://dvn-cloud:1857abebe4c-2daf94fff3c2', 'rootDataFileId': -1, 'md5': 'd3bd6479a95a6faa92eaa6e51b97317a', 'checksum': {'type': 'MD5', 'value': 'd3bd6479a95a6faa92eaa6e51b97317a'}, 'creationDate': '2023-01-03'}}]}}\n",
      "StatsNomination.csv.gz\n"
     ]
    },
    {
     "name": "stderr",
     "output_type": "stream",
     "text": [
      "100  149k    0     0  100  149k      0  60035  0:00:02  0:00:02 --:--:-- 60082"
     ]
    },
    {
     "name": "stdout",
     "output_type": "stream",
     "text": [
      "{'status': 'OK', 'data': {'files': [{'description': '', 'label': 'StatsNomination.csv.gz', 'restricted': False, 'version': 1, 'datasetVersionId': 337730, 'dataFile': {'id': 6867547, 'persistentId': '', 'pidURL': '', 'filename': 'StatsNomination.csv.gz', 'contentType': 'application/gzip', 'filesize': 152577, 'description': '', 'storageIdentifier': 's3://dvn-cloud:1857abec97b-714977e99059', 'rootDataFileId': -1, 'md5': 'ed5fa2ba008519804531658a486a3602', 'checksum': {'type': 'MD5', 'value': 'ed5fa2ba008519804531658a486a3602'}, 'creationDate': '2023-01-03'}}]}}\n"
     ]
    },
    {
     "name": "stderr",
     "output_type": "stream",
     "text": [
      "100  149k  100   523  100  149k    181  52887  0:00:02  0:00:02 --:--:-- 53104\n"
     ]
    }
   ],
   "source": [
    "from glob import glob\n",
    "\n",
    "for fn in glob('*.csv.gz'):\n",
    "    print(fn)\n",
    "    resp = api.upload_file(doi, fn)\n",
    "    print(resp)"
   ]
  },
  {
   "cell_type": "code",
   "execution_count": 7,
   "metadata": {},
   "outputs": [
    {
     "name": "stdout",
     "output_type": "stream",
     "text": [
      "pdfs.tar.gz.partad\n"
     ]
    },
    {
     "name": "stderr",
     "output_type": "stream",
     "text": [
      "  % Total    % Received % Xferd  Average Speed   Time    Time     Time  Current\n",
      "                                 Dload  Upload   Total   Spent    Left  Speed\n",
      "100 2048M  100   527  100 2048M      4  18.9M  0:02:11  0:01:47  0:00:24   144\n",
      "  % Total    % Received % Xferd  Average Speed   Time    Time     Time  Current\n",
      "                                 Dload  Upload   Total   Spent    Left  Speed\n",
      "  0     0    0     0    0     0      0      0 --:--:-- --:--:-- --:--:--     0"
     ]
    },
    {
     "name": "stdout",
     "output_type": "stream",
     "text": [
      "{'status': 'OK', 'data': {'files': [{'description': '', 'label': 'pdfs.tar.gz.partad', 'restricted': False, 'version': 1, 'datasetVersionId': 337730, 'dataFile': {'id': 6867551, 'persistentId': '', 'pidURL': '', 'filename': 'pdfs.tar.gz.partad', 'contentType': 'application/octet-stream', 'filesize': 2147483648, 'description': '', 'storageIdentifier': 's3://dvn-cloud:1857b2d54cd-ab99cba1a2c2', 'rootDataFileId': -1, 'md5': '2a91710bbd767fac9864fbf912e1e5ac', 'checksum': {'type': 'MD5', 'value': '2a91710bbd767fac9864fbf912e1e5ac'}, 'creationDate': '2023-01-04'}}]}}\n",
      "pdfs.tar.gz.partaa\n"
     ]
    },
    {
     "name": "stderr",
     "output_type": "stream",
     "text": [
      "100 2048M  100   519  100 2048M      4  18.8M  0:02:09  0:01:48  0:00:21   132\n",
      "  % Total    % Received % Xferd  Average Speed   Time    Time     Time  Current\n",
      "                                 Dload  Upload   Total   Spent    Left  Speed\n",
      "  0     0    0     0    0     0      0      0 --:--:-- --:--:-- --:--:--     0"
     ]
    },
    {
     "name": "stdout",
     "output_type": "stream",
     "text": [
      "{'status': 'OK', 'data': {'files': [{'description': '', 'label': 'pdfs.tar.gz.partaa', 'restricted': False, 'version': 1, 'datasetVersionId': 337730, 'dataFile': {'id': 6867552, 'persistentId': '', 'pidURL': '', 'filename': 'pdfs.tar.gz.partaa', 'contentType': 'application/gzip', 'filesize': 2147483648, 'description': '', 'storageIdentifier': 's3://dvn-cloud:1857b2f0124-a693129a5337', 'rootDataFileId': -1, 'md5': 'd0f59b4ed3dc18648c2f80ff3392916a', 'checksum': {'type': 'MD5', 'value': 'd0f59b4ed3dc18648c2f80ff3392916a'}, 'creationDate': '2023-01-04'}}]}}\n",
      "pdfs.tar.gz.partae\n"
     ]
    },
    {
     "name": "stderr",
     "output_type": "stream",
     "text": [
      "100 1143M  100   527  100 1143M      8  19.0M  0:01:05  0:00:59  0:00:06   137\n",
      "  % Total    % Received % Xferd  Average Speed   Time    Time     Time  Current\n",
      "                                 Dload  Upload   Total   Spent    Left  Speed\n",
      "  0     0    0     0    0     0      0      0 --:--:-- --:--:-- --:--:--     0"
     ]
    },
    {
     "name": "stdout",
     "output_type": "stream",
     "text": [
      "{'status': 'OK', 'data': {'files': [{'description': '', 'label': 'pdfs.tar.gz.partae', 'restricted': False, 'version': 1, 'datasetVersionId': 337730, 'dataFile': {'id': 6867553, 'persistentId': '', 'pidURL': '', 'filename': 'pdfs.tar.gz.partae', 'contentType': 'application/octet-stream', 'filesize': 1199230873, 'description': '', 'storageIdentifier': 's3://dvn-cloud:1857b300c0b-a8622f7d4fa0', 'rootDataFileId': -1, 'md5': '612c1b74c0769b63fec854cdabc74200', 'checksum': {'type': 'MD5', 'value': '612c1b74c0769b63fec854cdabc74200'}, 'creationDate': '2023-01-04'}}]}}\n",
      "pdfs.tar.gz.partab\n"
     ]
    },
    {
     "name": "stderr",
     "output_type": "stream",
     "text": [
      "100 2048M  100   527  100 2048M      4  19.2M  0:02:11  0:01:46  0:00:25   128\n",
      "  % Total    % Received % Xferd  Average Speed   Time    Time     Time  Current\n",
      "                                 Dload  Upload   Total   Spent    Left  Speed\n",
      "  0     0    0     0    0     0      0      0 --:--:-- --:--:-- --:--:--     0"
     ]
    },
    {
     "name": "stdout",
     "output_type": "stream",
     "text": [
      "{'status': 'OK', 'data': {'files': [{'description': '', 'label': 'pdfs.tar.gz.partab', 'restricted': False, 'version': 1, 'datasetVersionId': 337730, 'dataFile': {'id': 6867554, 'persistentId': '', 'pidURL': '', 'filename': 'pdfs.tar.gz.partab', 'contentType': 'application/octet-stream', 'filesize': 2147483648, 'description': '', 'storageIdentifier': 's3://dvn-cloud:1857b318958-d74a24c5eba5', 'rootDataFileId': -1, 'md5': 'f44e576f7f5db80979ba91cad5c06c11', 'checksum': {'type': 'MD5', 'value': 'f44e576f7f5db80979ba91cad5c06c11'}, 'creationDate': '2023-01-04'}}]}}\n",
      "pdfs.tar.gz.partac\n"
     ]
    },
    {
     "name": "stderr",
     "output_type": "stream",
     "text": [
      "100 2048M    0     0  100 2048M      0  18.9M  0:01:48  0:01:48 --:--:--     0"
     ]
    },
    {
     "name": "stdout",
     "output_type": "stream",
     "text": [
      "{'status': 'OK', 'data': {'files': [{'description': '', 'label': 'pdfs.tar.gz.partac', 'restricted': False, 'version': 1, 'datasetVersionId': 337730, 'dataFile': {'id': 6867555, 'persistentId': '', 'pidURL': '', 'filename': 'pdfs.tar.gz.partac', 'contentType': 'application/octet-stream', 'filesize': 2147483648, 'description': '', 'storageIdentifier': 's3://dvn-cloud:1857b3328b9-c91d7e4c5049', 'rootDataFileId': -1, 'md5': '9b6337331789a7ec7c241c07a0d662a6', 'checksum': {'type': 'MD5', 'value': '9b6337331789a7ec7c241c07a0d662a6'}, 'creationDate': '2023-01-04'}}]}}\n"
     ]
    },
    {
     "name": "stderr",
     "output_type": "stream",
     "text": [
      "100 2048M  100   527  100 2048M      4  18.8M  0:02:11  0:01:48  0:00:23   156\n"
     ]
    }
   ],
   "source": [
    "for fn in glob('*.tar.gz.part*'):\n",
    "    print(fn)\n",
    "    resp = api.upload_file(doi, fn)\n",
    "    print(resp)"
   ]
  },
  {
   "cell_type": "code",
   "execution_count": null,
   "metadata": {},
   "outputs": [],
   "source": []
  }
 ],
 "metadata": {
  "kernelspec": {
   "display_name": "Python 3 (ipykernel)",
   "language": "python",
   "name": "python3"
  },
  "language_info": {
   "codemirror_mode": {
    "name": "ipython",
    "version": 3
   },
   "file_extension": ".py",
   "mimetype": "text/x-python",
   "name": "python",
   "nbconvert_exporter": "python",
   "pygments_lexer": "ipython3",
   "version": "3.8.10"
  }
 },
 "nbformat": 4,
 "nbformat_minor": 4
}
